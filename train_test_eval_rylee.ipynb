{
 "cells": [
  {
   "cell_type": "code",
   "execution_count": null,
   "metadata": {},
   "outputs": [],
   "source": [
    "import torch\n",
    "import torch.nn as nn\n",
    "from torchvision import models\n",
    "\n",
    "# Load pretrained DenseNet-121\n",
    "densenet = models.densenet121(pretrained=True)\n",
    "\n",
    "# Remove the classifier head\n",
    "densenet_backbone = densenet.features\n",
    "\n",
    "from transformers import SwinForImageClassification\n",
    "\n",
    "# Load pretrained Swin Transformer\n",
    "swin_model = SwinForImageClassification.from_pretrained(\"microsoft/swin-tiny-patch4-window7-224\")\n",
    "\n",
    "# Modify the input layer to accept DenseNet-121 features\n",
    "swin_model.classifier = nn.Linear(in_features=1024, out_features=5)  # Assuming 5 DR severity levels\n",
    "\n"
   ]
  },
  {
   "cell_type": "code",
   "execution_count": null,
   "metadata": {},
   "outputs": [],
   "source": [
    "class HybridModel(nn.Module):\n",
    "    def __init__(self, densenet_backbone, swin_model):\n",
    "        super(HybridModel, self).__init__()\n",
    "        self.densenet = densenet_backbone\n",
    "        self.pool = nn.AdaptiveAvgPool2d((1, 1))  # Pooling to match Swin input shape\n",
    "        self.swin = swin_model\n",
    "\n",
    "    def forward(self, x):\n",
    "        x = self.densenet(x)  # Extract features using DenseNet-121\n",
    "        x = self.pool(x).flatten(1)  # Pool and flatten for Swin Transformer\n",
    "        x = self.swin.classifier(x)  # Final classification\n",
    "        return x\n",
    "\n",
    "# Initialize the hybrid model\n",
    "hybrid_model = HybridModel(densenet_backbone, swin_model)\n"
   ]
  },
  {
   "cell_type": "code",
   "execution_count": null,
   "metadata": {},
   "outputs": [],
   "source": [
    "criterion = nn.CrossEntropyLoss()\n",
    "optimizer = torch.optim.AdamW(hybrid_model.parameters(), lr=1e-4)\n"
   ]
  }
 ],
 "metadata": {
  "language_info": {
   "name": "python"
  }
 },
 "nbformat": 4,
 "nbformat_minor": 2
}
