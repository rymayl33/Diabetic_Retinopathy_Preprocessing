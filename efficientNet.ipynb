{
 "cells": [
  {
   "cell_type": "code",
   "execution_count": 21,
   "metadata": {},
   "outputs": [],
   "source": [
    "import torch\n",
    "import os\n",
    "from utils import *\n",
    "import torch.nn as nn\n",
    "from torchvision.models import efficientnet_b0, EfficientNet_B0_Weights\n",
    "\n",
    "\n",
    "def load_model():\n",
    "    # --- 1. Load Pretrained EfficientNet ---\n",
    "    weights = EfficientNet_B0_Weights.DEFAULT\n",
    "    model = efficientnet_b0(weights=weights)\n",
    "\n",
    "    num_classes = 5 \n",
    "    in_features = model.classifier[1].in_features\n",
    "    model.classifier[1] = nn.Linear(in_features, num_classes)\n",
    "\n",
    "    device = torch.device(\"cuda\" if torch.cuda.is_available() else \"cpu\")\n",
    "    model = model.to(device)\n",
    "    return model\n",
    "\n",
    "\n",
    "def train(model, train_loader, val_loader, preprocess_method):\n",
    "    criterion = nn.CrossEntropyLoss()\n",
    "    device = torch.device(\"cuda\" if torch.cuda.is_available() else \"cpu\")\n",
    "    optimizer = torch.optim.Adam(model.parameters(), lr=1e-4)\n",
    "\n",
    "    # --- 6. Training Loop ---\n",
    "    num_epochs = 5\n",
    "    val_accs = []\n",
    "    val_losses = []\n",
    "    train_accs = []\n",
    "    train_losses = []\n",
    "\n",
    "\n",
    "    for epoch in range(num_epochs):\n",
    "        print(f'Epoch {epoch+1}/{num_epochs}')\n",
    "        print('-' * 30)\n",
    "\n",
    "        model.train()\n",
    "        running_loss = 0.0\n",
    "        correct = 0\n",
    "        total = 0\n",
    "\n",
    "        for images, labels in tqdm(train_loader):\n",
    "            images, labels = images.to(device), labels.to(device)\n",
    "\n",
    "            optimizer.zero_grad()\n",
    "            outputs = model(images)\n",
    "            loss = criterion(outputs, labels)\n",
    "            loss.backward()\n",
    "            optimizer.step()\n",
    "\n",
    "            running_loss += loss.item()\n",
    "            running_loss += loss.item() * images.size(0)\n",
    "            _, preds = torch.max(outputs, 1)\n",
    "            correct += (preds == labels).sum().item()\n",
    "            total += labels.size(0)\n",
    "\n",
    "        train_loss = running_loss / total\n",
    "        train_acc = correct / total\n",
    "        train_accs.append(train_acc)\n",
    "        train_losses.append(train_loss)\n",
    "        print(f'Train Loss: {train_loss:.4f} | Train Acc: {train_acc:.4f}')\n",
    "        print(f\"Epoch [{epoch+1}/{num_epochs}], Loss: {running_loss/len(train_loader):.4f}\")\n",
    "\n",
    "        # --- 7. Evaluation (optional) ---\n",
    "        acc, loss, precision, recall, f1 = evaluate(model, val_loader)\n",
    "        val_accs.append(acc)\n",
    "        val_losses.append(loss)\n",
    "\n",
    "        print(f'Val Accuracy: {acc:.4f}')\n",
    "        print(f'Val Loss: {loss:.4f}')\n",
    "        print(f'Val Precision: {precision:.4f}')\n",
    "        print(f'Val Recall: {recall:.4f}')\n",
    "        print(f'Val F1 Score: {f1:.4f}')\n",
    "        # Validation\n",
    "\n",
    "        plot_accuracy_and_loss(train_accs, train_losses, val_accs, val_losses)\n",
    "\n",
    "    \n",
    "    if not os.path.exists('efficientNet'):\n",
    "        os.makedirs('efficientNet')\n",
    "        \n",
    "    torch.save(model.state_dict(), f'efficientNet/{preprocess_method.__name__}.pth')\n",
    "\n",
    "\n",
    "def test(model, test_loader1, test_loader2, preprocess_method):\n",
    "    # model = load_model()\n",
    "\n",
    "    model.load_state_dict(torch.load(f'efficientNet/{preprocess_method.__name__}.pth'))\n",
    "    model.eval()\n",
    "\n",
    "    acc, loss, precision, recall, f1 = evaluate(model, test_loader1)\n",
    "    acc2, loss2, precision2, recall2, f12 = evaluate(model, test_loader2)\n",
    "\n",
    "    print(f'Metrics for Aptos Dataset')\n",
    "    print(f'Test Accuracy: {acc:.4f}')\n",
    "    print(f'Test Loss: {loss:.4f}')\n",
    "    print(f'Test  Precision: {precision:.4f}')\n",
    "    print(f'Test  Recall: {recall:.4f}')\n",
    "    print(f'Test  F1 Score: {f1:.4f}')\n",
    "\n",
    "    print(f'Metrics for DR Dataset')\n",
    "    print(f'Test Accuracy: {acc2:.4f}')\n",
    "    print(f'Test Loss: {loss2:.4f}')\n",
    "    print(f'Test  Precision: {precision2:.4f}')\n",
    "    print(f'Test  Recall: {recall2:.4f}')\n",
    "    print(f'Test  F1 Score: {f12:.4f}')\n",
    "\n",
    "\n",
    "def main(preprocess_method=None):\n",
    "    # Load training, validation, and test data\n",
    "    full_train_balanced, full_val, test_df1, test_df2 = load_data()\n",
    "\n",
    "    # Get data loaders with no extra preprocessing\n",
    "    train_loader, val_loader, test_loader1, test_loader2, test_dataset1, test_dataset2 = get_data_loaders(full_train_balanced, full_val, test_df1, test_df2, 16, preprocess_method)\n",
    "\n",
    "    # Load efficientNet \n",
    "    model = load_model()\n",
    "\n",
    "    # Train model\n",
    "    train(model, train_loader, val_loader, preprocess_method)\n",
    "\n",
    "    # Test model\n",
    "    test(model, test_loader1, test_loader2)\n"
   ]
  },
  {
   "cell_type": "code",
   "execution_count": 22,
   "metadata": {},
   "outputs": [
    {
     "name": "stdout",
     "output_type": "stream",
     "text": [
      "Epoch 1/5\n",
      "------------------------------\n"
     ]
    },
    {
     "name": "stderr",
     "output_type": "stream",
     "text": [
      "  3%|▎         | 47/1563 [02:55<1:31:46,  3.63s/it]"
     ]
    }
   ],
   "source": [
    "# Train model using different preprocessing methods\n",
    "main(gaussian_subtractive_normalization)"
   ]
  },
  {
   "cell_type": "code",
   "execution_count": 7,
   "metadata": {},
   "outputs": [
    {
     "name": "stderr",
     "output_type": "stream",
     "text": [
      "100%|██████████| 46/46 [01:36<00:00,  2.10s/it]\n",
      "100%|██████████| 440/440 [21:55<00:00,  2.99s/it]"
     ]
    },
    {
     "name": "stdout",
     "output_type": "stream",
     "text": [
      "Metrics for Aptos Dataset\n",
      "Test Accuracy: 0.7722\n",
      "Test Loss: 0.8601\n",
      "Test  Precision: 0.7995\n",
      "Test  Recall: 0.7722\n",
      "Test  F1 Score: 0.7766\n",
      "Metrics for DR Dataset\n",
      "Test Accuracy: 0.6662\n",
      "Test Loss: 0.8676\n",
      "Test  Precision: 0.7446\n",
      "Test  Recall: 0.6662\n",
      "Test  F1 Score: 0.6952\n"
     ]
    },
    {
     "name": "stderr",
     "output_type": "stream",
     "text": [
      "\n"
     ]
    }
   ],
   "source": [
    "model.load_state_dict(torch.load('efficientNet/regular.pth'))\n",
    "model.eval()\n",
    "\n",
    "acc, loss, precision, recall, f1 = evaluate(model, test_loader1)\n",
    "acc2, loss2, precision2, recall2, f12 = evaluate(model, test_loader2)\n",
    "\n",
    "print(f'Metrics for Aptos Dataset')\n",
    "print(f'Test Accuracy: {acc:.4f}')\n",
    "print(f'Test Loss: {loss:.4f}')\n",
    "print(f'Test  Precision: {precision:.4f}')\n",
    "print(f'Test  Recall: {recall:.4f}')\n",
    "print(f'Test  F1 Score: {f1:.4f}')\n",
    "\n",
    "print(f'Metrics for DR Dataset')\n",
    "print(f'Test Accuracy: {acc2:.4f}')\n",
    "print(f'Test Loss: {loss2:.4f}')\n",
    "print(f'Test  Precision: {precision2:.4f}')\n",
    "print(f'Test  Recall: {recall2:.4f}')\n",
    "print(f'Test  F1 Score: {f12:.4f}')"
   ]
  }
 ],
 "metadata": {
  "kernelspec": {
   "display_name": "dr",
   "language": "python",
   "name": "python3"
  },
  "language_info": {
   "codemirror_mode": {
    "name": "ipython",
    "version": 3
   },
   "file_extension": ".py",
   "mimetype": "text/x-python",
   "name": "python",
   "nbconvert_exporter": "python",
   "pygments_lexer": "ipython3",
   "version": "3.11.11"
  }
 },
 "nbformat": 4,
 "nbformat_minor": 2
}
